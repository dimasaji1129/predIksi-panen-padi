{
 "cells": [
  {
   "cell_type": "code",
   "execution_count": 19,
   "metadata": {
    "colab": {
     "base_uri": "https://localhost:8080/"
    },
    "id": "cxsJSoYFWXVt",
    "outputId": "7d30798c-e82c-4a8e-ebad-2a3fe73f5c23",
    "scrolled": false
   },
   "outputs": [
    {
     "name": "stdout",
     "output_type": "stream",
     "text": [
      "Defaulting to user installation because normal site-packages is not writeable\n",
      "Requirement already satisfied: pandas in /home/dimas/.local/lib/python3.10/site-packages (2.0.2)\n",
      "Requirement already satisfied: tzdata>=2022.1 in /home/dimas/.local/lib/python3.10/site-packages (from pandas) (2023.3)\n",
      "Requirement already satisfied: numpy>=1.21.0 in /usr/lib/python3/dist-packages (from pandas) (1.21.5)\n",
      "Requirement already satisfied: python-dateutil>=2.8.2 in /home/dimas/.local/lib/python3.10/site-packages (from pandas) (2.8.2)\n",
      "Requirement already satisfied: pytz>=2020.1 in /usr/lib/python3/dist-packages (from pandas) (2022.1)\n",
      "Requirement already satisfied: six>=1.5 in /usr/lib/python3/dist-packages (from python-dateutil>=2.8.2->pandas) (1.16.0)\n"
     ]
    }
   ],
   "source": [
    "!pip install pandas"
   ]
  },
  {
   "cell_type": "code",
   "execution_count": 20,
   "metadata": {},
   "outputs": [
    {
     "name": "stdout",
     "output_type": "stream",
     "text": [
      "Defaulting to user installation because normal site-packages is not writeable\n",
      "Requirement already satisfied: scikit-learn in /home/dimas/.local/lib/python3.10/site-packages (1.2.2)\n",
      "Requirement already satisfied: scipy>=1.3.2 in /usr/lib/python3/dist-packages (from scikit-learn) (1.8.0)\n",
      "Requirement already satisfied: numpy>=1.17.3 in /usr/lib/python3/dist-packages (from scikit-learn) (1.21.5)\n",
      "Requirement already satisfied: joblib>=1.1.1 in /home/dimas/.local/lib/python3.10/site-packages (from scikit-learn) (1.2.0)\n",
      "Requirement already satisfied: threadpoolctl>=2.0.0 in /home/dimas/.local/lib/python3.10/site-packages (from scikit-learn) (3.1.0)\n"
     ]
    }
   ],
   "source": [
    "!pip install scikit-learn"
   ]
  },
  {
   "cell_type": "code",
   "execution_count": 21,
   "metadata": {},
   "outputs": [
    {
     "name": "stdout",
     "output_type": "stream",
     "text": [
      "Defaulting to user installation because normal site-packages is not writeable\n",
      "Requirement already satisfied: matplotlib in /usr/lib/python3/dist-packages (3.5.1)\n"
     ]
    }
   ],
   "source": [
    "!pip install matplotlib"
   ]
  },
  {
   "cell_type": "code",
   "execution_count": 4,
   "metadata": {},
   "outputs": [
    {
     "name": "stdout",
     "output_type": "stream",
     "text": [
      "Defaulting to user installation because normal site-packages is not writeable\n",
      "Collecting LinearRegression\n",
      "  Using cached LinearRegression-0.0.1-py3-none-any.whl (2.7 kB)\n",
      "Installing collected packages: LinearRegression\n",
      "Successfully installed LinearRegression-0.0.1\n"
     ]
    }
   ],
   "source": [
    "!pip install LinearRegression"
   ]
  },
  {
   "cell_type": "code",
   "execution_count": 22,
   "metadata": {},
   "outputs": [
    {
     "name": "stdout",
     "output_type": "stream",
     "text": [
      "Defaulting to user installation because normal site-packages is not writeable\n",
      "Requirement already satisfied: StandardScaler in /home/dimas/.local/lib/python3.10/site-packages (0.5)\n",
      "Requirement already satisfied: scikit-elm in /home/dimas/.local/lib/python3.10/site-packages (from StandardScaler) (0.21a0)\n",
      "Requirement already satisfied: scikit-learn in /home/dimas/.local/lib/python3.10/site-packages (from StandardScaler) (1.2.2)\n",
      "Requirement already satisfied: pandas in /home/dimas/.local/lib/python3.10/site-packages (from StandardScaler) (2.0.2)\n",
      "Requirement already satisfied: dask in /home/dimas/.local/lib/python3.10/site-packages (from StandardScaler) (2023.6.0)\n",
      "Requirement already satisfied: numpy in /usr/lib/python3/dist-packages (from StandardScaler) (1.21.5)\n",
      "Requirement already satisfied: toolz>=0.10.0 in /home/dimas/.local/lib/python3.10/site-packages (from dask->StandardScaler) (0.12.0)\n",
      "Requirement already satisfied: importlib-metadata>=4.13.0 in /home/dimas/.local/lib/python3.10/site-packages (from dask->StandardScaler) (6.7.0)\n",
      "Requirement already satisfied: partd>=1.2.0 in /home/dimas/.local/lib/python3.10/site-packages (from dask->StandardScaler) (1.4.0)\n",
      "Requirement already satisfied: packaging>=20.0 in /usr/lib/python3/dist-packages (from dask->StandardScaler) (21.3)\n",
      "Requirement already satisfied: fsspec>=2021.09.0 in /home/dimas/.local/lib/python3.10/site-packages (from dask->StandardScaler) (2023.6.0)\n",
      "Requirement already satisfied: click>=8.0 in /home/dimas/.local/lib/python3.10/site-packages (from dask->StandardScaler) (8.1.3)\n",
      "Requirement already satisfied: cloudpickle>=1.5.0 in /home/dimas/.local/lib/python3.10/site-packages (from dask->StandardScaler) (2.2.1)\n",
      "Requirement already satisfied: pyyaml>=5.3.1 in /usr/lib/python3/dist-packages (from dask->StandardScaler) (5.4.1)\n",
      "Requirement already satisfied: tzdata>=2022.1 in /home/dimas/.local/lib/python3.10/site-packages (from pandas->StandardScaler) (2023.3)\n",
      "Requirement already satisfied: pytz>=2020.1 in /usr/lib/python3/dist-packages (from pandas->StandardScaler) (2022.1)\n",
      "Requirement already satisfied: python-dateutil>=2.8.2 in /home/dimas/.local/lib/python3.10/site-packages (from pandas->StandardScaler) (2.8.2)\n",
      "Requirement already satisfied: scipy in /usr/lib/python3/dist-packages (from scikit-elm->StandardScaler) (1.8.0)\n",
      "Requirement already satisfied: threadpoolctl>=2.0.0 in /home/dimas/.local/lib/python3.10/site-packages (from scikit-learn->StandardScaler) (3.1.0)\n",
      "Requirement already satisfied: joblib>=1.1.1 in /home/dimas/.local/lib/python3.10/site-packages (from scikit-learn->StandardScaler) (1.2.0)\n",
      "Requirement already satisfied: zipp>=0.5 in /usr/lib/python3/dist-packages (from importlib-metadata>=4.13.0->dask->StandardScaler) (1.0.0)\n",
      "Requirement already satisfied: locket in /home/dimas/.local/lib/python3.10/site-packages (from partd>=1.2.0->dask->StandardScaler) (1.0.0)\n",
      "Requirement already satisfied: six>=1.5 in /usr/lib/python3/dist-packages (from python-dateutil>=2.8.2->pandas->StandardScaler) (1.16.0)\n"
     ]
    }
   ],
   "source": [
    "!pip install StandardScaler"
   ]
  },
  {
   "cell_type": "code",
   "execution_count": 6,
   "metadata": {},
   "outputs": [
    {
     "name": "stdout",
     "output_type": "stream",
     "text": [
      "Defaulting to user installation because normal site-packages is not writeable\n",
      "Collecting Classifier\n",
      "  Using cached classifier-2.0.tar.gz (4.3 kB)\n",
      "  Preparing metadata (setup.py) ... \u001b[?25ldone\n",
      "\u001b[?25hRequirement already satisfied: arrow in /home/dimas/.local/lib/python3.10/site-packages (from Classifier) (1.2.3)\n",
      "Requirement already satisfied: python-dateutil>=2.7.0 in /home/dimas/.local/lib/python3.10/site-packages (from arrow->Classifier) (2.8.2)\n",
      "Requirement already satisfied: six>=1.5 in /usr/lib/python3/dist-packages (from python-dateutil>=2.7.0->arrow->Classifier) (1.16.0)\n",
      "Building wheels for collected packages: Classifier\n",
      "  Building wheel for Classifier (setup.py) ... \u001b[?25ldone\n",
      "\u001b[?25h  Created wheel for Classifier: filename=classifier-2.0-py3-none-any.whl size=5055 sha256=e0720aa0eafa8a0293b611591c67e36810624ffc9b4d3443b648eca9bd6a5405\n",
      "  Stored in directory: /home/dimas/.cache/pip/wheels/c4/e9/f7/a0f40cc27242c7c8ef198c37bc0461f7ac90102cdbb0df7999\n",
      "Successfully built Classifier\n",
      "Installing collected packages: Classifier\n",
      "\u001b[33m  WARNING: The script classifier is installed in '/home/dimas/.local/bin' which is not on PATH.\n",
      "  Consider adding this directory to PATH or, if you prefer to suppress this warning, use --no-warn-script-location.\u001b[0m\u001b[33m\n",
      "\u001b[0mSuccessfully installed Classifier-2.0\n"
     ]
    }
   ],
   "source": [
    "!pip install Classifier"
   ]
  },
  {
   "cell_type": "code",
   "execution_count": 7,
   "metadata": {},
   "outputs": [
    {
     "name": "stdout",
     "output_type": "stream",
     "text": [
      "Defaulting to user installation because normal site-packages is not writeable\n",
      "Collecting excel\n",
      "  Using cached excel-1.0.1-py2.py3-none-any.whl (1.2 kB)\n",
      "Installing collected packages: excel\n",
      "Successfully installed excel-1.0.1\n"
     ]
    }
   ],
   "source": [
    "!pip install excel"
   ]
  },
  {
   "cell_type": "code",
   "execution_count": 8,
   "metadata": {},
   "outputs": [
    {
     "name": "stdout",
     "output_type": "stream",
     "text": [
      "Defaulting to user installation because normal site-packages is not writeable\n",
      "Collecting read\n",
      "  Using cached read-0.0.2-py3-none-any.whl (1.5 kB)\n",
      "Installing collected packages: read\n",
      "Successfully installed read-0.0.2\n"
     ]
    }
   ],
   "source": [
    "!pip install read"
   ]
  },
  {
   "cell_type": "code",
   "execution_count": 23,
   "metadata": {},
   "outputs": [
    {
     "name": "stdout",
     "output_type": "stream",
     "text": [
      "Defaulting to user installation because normal site-packages is not writeable\n",
      "Requirement already satisfied: openpyxl in /home/dimas/.local/lib/python3.10/site-packages (3.1.2)\n",
      "Requirement already satisfied: et-xmlfile in /home/dimas/.local/lib/python3.10/site-packages (from openpyxl) (1.1.0)\n"
     ]
    }
   ],
   "source": [
    "!pip install openpyxl"
   ]
  },
  {
   "cell_type": "code",
   "execution_count": 1,
   "metadata": {
    "id": "C4Q_iUujXCui"
   },
   "outputs": [],
   "source": [
    "import pandas as pd\n",
    "import matplotlib.pyplot as plt\n",
    "from sklearn.linear_model import LinearRegression\n",
    "from sklearn.preprocessing import StandardScaler\n",
    "from sklearn.ensemble import RandomForestClassifier\n",
    "from sklearn.model_selection import train_test_split\n",
    "import pickle"
   ]
  },
  {
   "cell_type": "markdown",
   "metadata": {
    "id": "7PomYLmtf-PY"
   },
   "source": [
    "---------------------------------------"
   ]
  },
  {
   "cell_type": "code",
   "execution_count": 16,
   "metadata": {
    "colab": {
     "base_uri": "https://localhost:8080/",
     "height": 206
    },
    "id": "QDSqsZYAgAEe",
    "outputId": "b79cbbba-72ae-44be-8a49-f95ad49470d4",
    "scrolled": true
   },
   "outputs": [],
   "source": [
    "data = pd.read_excel(\"data_set_lumajang.xlsx\")"
   ]
  },
  {
   "cell_type": "code",
   "execution_count": 18,
   "metadata": {},
   "outputs": [
    {
     "data": {
      "text/html": [
       "<div>\n",
       "<style scoped>\n",
       "    .dataframe tbody tr th:only-of-type {\n",
       "        vertical-align: middle;\n",
       "    }\n",
       "\n",
       "    .dataframe tbody tr th {\n",
       "        vertical-align: top;\n",
       "    }\n",
       "\n",
       "    .dataframe thead th {\n",
       "        text-align: right;\n",
       "    }\n",
       "</style>\n",
       "<table border=\"1\" class=\"dataframe\">\n",
       "  <thead>\n",
       "    <tr style=\"text-align: right;\">\n",
       "      <th></th>\n",
       "      <th>Tahun</th>\n",
       "      <th>LuasLahan</th>\n",
       "      <th>LuasPanen</th>\n",
       "      <th>Bibit</th>\n",
       "      <th>Produksi</th>\n",
       "    </tr>\n",
       "  </thead>\n",
       "  <tbody>\n",
       "    <tr>\n",
       "      <th>0</th>\n",
       "      <td>1967</td>\n",
       "      <td>77231</td>\n",
       "      <td>71878</td>\n",
       "      <td>730458</td>\n",
       "      <td>4874694</td>\n",
       "    </tr>\n",
       "    <tr>\n",
       "      <th>1</th>\n",
       "      <td>1968</td>\n",
       "      <td>83311</td>\n",
       "      <td>78824</td>\n",
       "      <td>715403</td>\n",
       "      <td>5166138</td>\n",
       "    </tr>\n",
       "    <tr>\n",
       "      <th>2</th>\n",
       "      <td>1969</td>\n",
       "      <td>82797</td>\n",
       "      <td>75139</td>\n",
       "      <td>785062</td>\n",
       "      <td>3878046</td>\n",
       "    </tr>\n",
       "    <tr>\n",
       "      <th>3</th>\n",
       "      <td>1970</td>\n",
       "      <td>83541</td>\n",
       "      <td>75837</td>\n",
       "      <td>758258</td>\n",
       "      <td>4844675</td>\n",
       "    </tr>\n",
       "    <tr>\n",
       "      <th>4</th>\n",
       "      <td>1971</td>\n",
       "      <td>83190</td>\n",
       "      <td>76031</td>\n",
       "      <td>660626</td>\n",
       "      <td>3973824</td>\n",
       "    </tr>\n",
       "  </tbody>\n",
       "</table>\n",
       "</div>"
      ],
      "text/plain": [
       "   Tahun  LuasLahan  LuasPanen   Bibit  Produksi\n",
       "0   1967      77231      71878  730458   4874694\n",
       "1   1968      83311      78824  715403   5166138\n",
       "2   1969      82797      75139  785062   3878046\n",
       "3   1970      83541      75837  758258   4844675\n",
       "4   1971      83190      76031  660626   3973824"
      ]
     },
     "execution_count": 18,
     "metadata": {},
     "output_type": "execute_result"
    }
   ],
   "source": [
    "data.head()"
   ]
  },
  {
   "cell_type": "code",
   "execution_count": 17,
   "metadata": {
    "colab": {
     "base_uri": "https://localhost:8080/"
    },
    "id": "o3EYjtxhgK0p",
    "outputId": "cbc49a73-a7ab-44e7-ebcb-11d1a07d3889"
   },
   "outputs": [
    {
     "data": {
      "text/plain": [
       "0     71878\n",
       "1     78824\n",
       "2     75139\n",
       "3     75837\n",
       "4     76031\n",
       "5     76718\n",
       "6     82464\n",
       "7     81721\n",
       "8     78027\n",
       "9     75542\n",
       "10    85365\n",
       "11    84583\n",
       "12    85330\n",
       "13    72516\n",
       "14    75708\n",
       "15    83169\n",
       "16    78943\n",
       "17    84952\n",
       "18    80977\n",
       "19    72188\n",
       "20    79698\n",
       "21    80466\n",
       "22    71607\n",
       "23    74424\n",
       "24    76552\n",
       "25    71415\n",
       "26    81578\n",
       "27    69961\n",
       "28    82175\n",
       "29    74657\n",
       "30    75272\n",
       "31    72952\n",
       "32    74220\n",
       "33    83937\n",
       "34    75199\n",
       "35    78275\n",
       "36    74997\n",
       "37    69600\n",
       "38    74765\n",
       "39    67601\n",
       "40    85191\n",
       "41    67354\n",
       "42    68903\n",
       "43    70712\n",
       "44    68709\n",
       "45    73024\n",
       "46    70375\n",
       "47    70540\n",
       "48    78899\n",
       "49    85434\n",
       "50    79050\n",
       "51    82289\n",
       "Name: LuasPanen, dtype: int64"
      ]
     },
     "execution_count": 17,
     "metadata": {},
     "output_type": "execute_result"
    }
   ],
   "source": [
    "luaspanen = data['LuasPanen']\n",
    "luaspanen"
   ]
  },
  {
   "cell_type": "code",
   "execution_count": 4,
   "metadata": {
    "colab": {
     "base_uri": "https://localhost:8080/"
    },
    "id": "TAWcfoV5gQL8",
    "outputId": "8607d32d-704d-4875-8a96-4eb79a0f0d6d"
   },
   "outputs": [
    {
     "data": {
      "text/plain": [
       "0     77231\n",
       "1     83311\n",
       "2     82797\n",
       "3     83541\n",
       "4     83190\n",
       "5     87378\n",
       "6     90088\n",
       "7     88326\n",
       "8     88848\n",
       "9     82763\n",
       "10    87455\n",
       "11    93919\n",
       "12    89947\n",
       "13    81148\n",
       "14    82929\n",
       "15    92340\n",
       "16    85888\n",
       "17    91308\n",
       "18    86776\n",
       "19    80237\n",
       "20    89713\n",
       "21    87919\n",
       "22    86595\n",
       "23    84064\n",
       "24    87413\n",
       "25    80212\n",
       "26    93870\n",
       "27    81876\n",
       "28    89768\n",
       "29    83844\n",
       "30    82494\n",
       "31    83669\n",
       "32    82493\n",
       "33    92714\n",
       "34    81347\n",
       "35    87925\n",
       "36    82939\n",
       "37    86597\n",
       "38    81412\n",
       "39    78078\n",
       "40    93733\n",
       "41    78623\n",
       "42    77438\n",
       "43    81265\n",
       "44    76570\n",
       "45    85069\n",
       "46    85924\n",
       "47    85924\n",
       "48    90396\n",
       "49    94435\n",
       "50    93390\n",
       "51    94188\n",
       "Name: LuasLahan, dtype: int64"
      ]
     },
     "execution_count": 4,
     "metadata": {},
     "output_type": "execute_result"
    }
   ],
   "source": [
    "luaslahan = data['LuasLahan']\n",
    "luaslahan"
   ]
  },
  {
   "cell_type": "code",
   "execution_count": 5,
   "metadata": {
    "colab": {
     "base_uri": "https://localhost:8080/"
    },
    "id": "IWkKEbY4J7Rx",
    "outputId": "bf0eb636-3879-464b-b0bd-86ee2e580c9d"
   },
   "outputs": [
    {
     "data": {
      "text/plain": [
       "0     730458\n",
       "1     715403\n",
       "2     785062\n",
       "3     758258\n",
       "4     660626\n",
       "5     759361\n",
       "6     733636\n",
       "7     710476\n",
       "8     817636\n",
       "9     570961\n",
       "10    570961\n",
       "11    642471\n",
       "12    662047\n",
       "13    801709\n",
       "14    809442\n",
       "15    865912\n",
       "16    644303\n",
       "17    574121\n",
       "18    788269\n",
       "19    636994\n",
       "20    717915\n",
       "21    828177\n",
       "22    864536\n",
       "23    781099\n",
       "24    780854\n",
       "25    867513\n",
       "26    584807\n",
       "27    794046\n",
       "28    768999\n",
       "29    786264\n",
       "30    645874\n",
       "31    691041\n",
       "32    589283\n",
       "33    716452\n",
       "34    713415\n",
       "35    691479\n",
       "36    659713\n",
       "37    721900\n",
       "38    680692\n",
       "39    583680\n",
       "40    654709\n",
       "41    881544\n",
       "42    718825\n",
       "43    582277\n",
       "44    691613\n",
       "45    769594\n",
       "46    545093\n",
       "47    698334\n",
       "48    600026\n",
       "49    581873\n",
       "50    827010\n",
       "51    846360\n",
       "Name: Bibit, dtype: int64"
      ]
     },
     "execution_count": 5,
     "metadata": {},
     "output_type": "execute_result"
    }
   ],
   "source": [
    "bibit = data['Bibit']\n",
    "bibit"
   ]
  },
  {
   "cell_type": "code",
   "execution_count": 6,
   "metadata": {
    "colab": {
     "base_uri": "https://localhost:8080/"
    },
    "id": "5O9jo6W9gXHa",
    "outputId": "ab47e2bd-7efd-4fa3-ac82-1e182001e268"
   },
   "outputs": [
    {
     "data": {
      "text/plain": [
       "0     4874694\n",
       "1     5166138\n",
       "2     3878046\n",
       "3     4844675\n",
       "4     3973824\n",
       "5     4905883\n",
       "6     4862019\n",
       "7     4770193\n",
       "8     4647764\n",
       "9     4668793\n",
       "10    5099444\n",
       "11    5188707\n",
       "12    5120893\n",
       "13    4606760\n",
       "14    4201211\n",
       "15    3878958\n",
       "16    5043924\n",
       "17    3875273\n",
       "18    3894734\n",
       "19    4908221\n",
       "20    4576587\n",
       "21    4630350\n",
       "22    5176343\n",
       "23    4808217\n",
       "24    5088806\n",
       "25    5282090\n",
       "26    4903925\n",
       "27    4886323\n",
       "28    4769925\n",
       "29    4513277\n",
       "30    4610695\n",
       "31    4555457\n",
       "32    4927660\n",
       "33    5031926\n",
       "34    3998606\n",
       "35    4087110\n",
       "36    4051484\n",
       "37    4575899\n",
       "38    3870596\n",
       "39    4402839\n",
       "40    4861498\n",
       "41    3831297\n",
       "42    4250112\n",
       "43    4289696\n",
       "44    4136645\n",
       "45    4432156\n",
       "46    4377565\n",
       "47    4377720\n",
       "48    4844271\n",
       "49    5304645\n",
       "50    4872685\n",
       "51    5284849\n",
       "Name: Produksi, dtype: int64"
      ]
     },
     "execution_count": 6,
     "metadata": {},
     "output_type": "execute_result"
    }
   ],
   "source": [
    "produksi = data['Produksi']\n",
    "produksi"
   ]
  },
  {
   "cell_type": "code",
   "execution_count": 7,
   "metadata": {
    "colab": {
     "base_uri": "https://localhost:8080/",
     "height": 465
    },
    "id": "I8_GJ7d7gbsv",
    "outputId": "5372feeb-f832-4d09-c0e8-ff51e352e1d6"
   },
   "outputs": [
    {
     "data": {
      "image/png": "[encoded data removed]",
      "text/plain": [
       "<Figure size 640x480 with 1 Axes>"
      ]
     },
     "metadata": {},
     "output_type": "display_data"
    }
   ],
   "source": [
    "plt.scatter(data['LuasPanen'], data['Produksi'])\n",
    "plt.xlabel(\"Luas Panen\")\n",
    "plt.ylabel(\"Produksi\")\n",
    "plt.show()"
   ]
  },
  {
   "cell_type": "code",
   "execution_count": 8,
   "metadata": {
    "colab": {
     "base_uri": "https://localhost:8080/",
     "height": 465
    },
    "id": "4dqEh4_1gljT",
    "outputId": "469b013f-c8ca-4d30-b43a-550c61cbff4d"
   },
   "outputs": [
    {
     "data": {
      "image/png": "[encoded data removed]",
      "text/plain": [
       "<Figure size 640x480 with 1 Axes>"
      ]
     },
     "metadata": {},
     "output_type": "display_data"
    }
   ],
   "source": [
    "plt.scatter(data['Bibit'], data['Produksi'])\n",
    "plt.xlabel(\"Bibit\")\n",
    "plt.ylabel(\"Produksi\")\n",
    "plt.show()"
   ]
  },
  {
   "cell_type": "code",
   "execution_count": 9,
   "metadata": {
    "colab": {
     "base_uri": "https://localhost:8080/",
     "height": 465
    },
    "id": "JsK6kJXNKUyG",
    "outputId": "4dc84ebd-0ba9-4384-d280-b65073ee5443"
   },
   "outputs": [
    {
     "data": {
      "image/png": "[encoded data removed]",
      "text/plain": [
       "<Figure size 640x480 with 1 Axes>"
      ]
     },
     "metadata": {},
     "output_type": "display_data"
    }
   ],
   "source": [
    "plt.scatter(data['LuasLahan'], data['Produksi'])\n",
    "plt.xlabel(\"LuasLahan\")\n",
    "plt.ylabel(\"Produksi\")\n",
    "plt.show()"
   ]
  },
  {
   "cell_type": "code",
   "execution_count": 10,
   "metadata": {
    "colab": {
     "base_uri": "https://localhost:8080/"
    },
    "id": "j_m8E6iWgpb8",
    "outputId": "8100a54b-864f-4e71-81cc-ea35a768dcec"
   },
   "outputs": [
    {
     "data": {
      "text/plain": [
       "[[77231, 71878, 730458],\n",
       " [83311, 78824, 715403],\n",
       " [82797, 75139, 785062],\n",
       " [83541, 75837, 758258],\n",
       " [83190, 76031, 660626],\n",
       " [87378, 76718, 759361],\n",
       " [90088, 82464, 733636],\n",
       " [88326, 81721, 710476],\n",
       " [88848, 78027, 817636],\n",
       " [82763, 75542, 570961],\n",
       " [87455, 85365, 570961],\n",
       " [93919, 84583, 642471],\n",
       " [89947, 85330, 662047],\n",
       " [81148, 72516, 801709],\n",
       " [82929, 75708, 809442],\n",
       " [92340, 83169, 865912],\n",
       " [85888, 78943, 644303],\n",
       " [91308, 84952, 574121],\n",
       " [86776, 80977, 788269],\n",
       " [80237, 72188, 636994],\n",
       " [89713, 79698, 717915],\n",
       " [87919, 80466, 828177],\n",
       " [86595, 71607, 864536],\n",
       " [84064, 74424, 781099],\n",
       " [87413, 76552, 780854],\n",
       " [80212, 71415, 867513],\n",
       " [93870, 81578, 584807],\n",
       " [81876, 69961, 794046],\n",
       " [89768, 82175, 768999],\n",
       " [83844, 74657, 786264],\n",
       " [82494, 75272, 645874],\n",
       " [83669, 72952, 691041],\n",
       " [82493, 74220, 589283],\n",
       " [92714, 83937, 716452],\n",
       " [81347, 75199, 713415],\n",
       " [87925, 78275, 691479],\n",
       " [82939, 74997, 659713],\n",
       " [86597, 69600, 721900],\n",
       " [81412, 74765, 680692],\n",
       " [78078, 67601, 583680],\n",
       " [93733, 85191, 654709],\n",
       " [78623, 67354, 881544],\n",
       " [77438, 68903, 718825],\n",
       " [81265, 70712, 582277],\n",
       " [76570, 68709, 691613],\n",
       " [85069, 73024, 769594],\n",
       " [85924, 70375, 545093],\n",
       " [85924, 70540, 698334],\n",
       " [90396, 78899, 600026],\n",
       " [94435, 85434, 581873],\n",
       " [93390, 79050, 827010],\n",
       " [94188, 82289, 846360]]"
      ]
     },
     "execution_count": 10,
     "metadata": {},
     "output_type": "execute_result"
    }
   ],
   "source": [
    "varx = []\n",
    "for i in range(len(luaslahan)):\n",
    "  varx.append([ luaslahan[i], luaspanen[i], bibit[i]])\n",
    "varx"
   ]
  },
  {
   "cell_type": "code",
   "execution_count": 11,
   "metadata": {
    "id": "IUmNBxe6hGLo"
   },
   "outputs": [],
   "source": [
    "ganda = LinearRegression().fit(varx, produksi)"
   ]
  },
  {
   "cell_type": "code",
   "execution_count": 12,
   "metadata": {
    "colab": {
     "base_uri": "https://localhost:8080/"
    },
    "id": "L2ix-MD4hZMZ",
    "outputId": "c31b0171-106b-40bb-a360-f868fb55cd71"
   },
   "outputs": [
    {
     "name": "stdout",
     "output_type": "stream",
     "text": [
      "1898876.157991103\n",
      "31.13399737792712\n",
      "1.2794111770585976\n",
      "-0.07326039923728445\n",
      "0.13075108672783387\n"
     ]
    }
   ],
   "source": [
    "a = ganda.intercept_\n",
    "b1 = ganda.coef_[0]\n",
    "b2 = ganda.coef_[1]\n",
    "b3 = ganda.coef_[2]\n",
    "r = ganda.score(varx, produksi)\n",
    "print(a)\n",
    "print(b1)\n",
    "print(b2)\n",
    "print(b3)\n",
    "print(r)"
   ]
  },
  {
   "cell_type": "code",
   "execution_count": 15,
   "metadata": {
    "colab": {
     "base_uri": "https://localhost:8080/",
     "height": 271
    },
    "id": "VsxyXwb8hOzT",
    "outputId": "a7e3ee6c-6f03-48cd-f612-a3f24e2ae9d7"
   },
   "outputs": [
    {
     "name": "stdout",
     "output_type": "stream",
     "text": [
      "Masukan nilai Luas Lahan = 90000\n",
      "Masukan nilai Luas Panen = 80000\n",
      "Masukan nilai Bibit = 70000\n"
     ]
    },
    {
     "data": {
      "text/plain": [
       "4798160.588222621"
      ]
     },
     "execution_count": 15,
     "metadata": {},
     "output_type": "execute_result"
    }
   ],
   "source": [
    "x_1 = float(input(\"Masukan nilai Luas Lahan = \"))\n",
    "x_2 = float(input(\"Masukan nilai Luas Panen = \"))\n",
    "x_3 = float(input(\"Masukan nilai Bibit = \"))\n",
    "y = a+(b1*x_1)+(b2*x_2)+(b3*x_3)\n",
    "float(y)"
   ]
  },
  {
   "cell_type": "code",
   "execution_count": null,
   "metadata": {
    "id": "31VLCX8IYrGM"
   },
   "outputs": [],
   "source": [
    "pickle.dump(ganda, open(\"model.pkl\", \"wb\"))"
   ]
  }
 ],
 "metadata": {
  "colab": {
   "provenance": []
  },
  "kernelspec": {
   "display_name": "Python 3 (ipykernel)",
   "language": "python",
   "name": "python3"
  },
  "language_info": {
   "codemirror_mode": {
    "name": "ipython",
    "version": 3
   },
   "file_extension": ".py",
   "mimetype": "text/x-python",
   "name": "python",
   "nbconvert_exporter": "python",
   "pygments_lexer": "ipython3",
   "version": "3.10.6"
  }
 },
 "nbformat": 4,
 "nbformat_minor": 1
}
